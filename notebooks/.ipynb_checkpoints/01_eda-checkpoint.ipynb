{
 "cells": [
  {
   "cell_type": "code",
   "execution_count": null,
   "id": "8f7f595e-1059-492c-85f5-6d3488e97ee0",
   "metadata": {},
   "outputs": [],
   "source": [
    "# ===============================================================\n",
    "# 01_eda.ipynb\n",
    "# Module 1: Data Preprocessing & EDA (Adapted for your dataset)\n",
    "# ===============================================================\n",
    "\n",
    "# STEP 1: Install dependencies\n",
    "!pip install pandas numpy matplotlib seaborn"
   ]
  },
  {
   "cell_type": "code",
   "execution_count": null,
   "id": "6ca3a351-c977-461a-ad55-24842a21b201",
   "metadata": {},
   "outputs": [],
   "source": [
    "# STEP 2: Import libraries\n",
    "import pandas as pd\n",
    "import numpy as np\n",
    "import matplotlib.pyplot as plt\n",
    "import seaborn as sns\n"
   ]
  },
  {
   "cell_type": "code",
   "execution_count": null,
   "id": "b25a91d6-bbb4-4522-9534-efe07ba24281",
   "metadata": {},
   "outputs": [],
   "source": [
    "# STEP 3: Load dataset\n",
    "df = pd.read_csv(\"../data/raw/air_quality.csv\", sep=None, engine=\"python\")\n",
    "\n",
    "print(\"Dataset shape:\", df.shape)\n",
    "print(df.head())"
   ]
  },
  {
   "cell_type": "code",
   "execution_count": null,
   "id": "5cbb32b8-5a75-4969-b6d0-dc3279157585",
   "metadata": {},
   "outputs": [],
   "source": [
    "# STEP 4: Convert datetime column\n",
    "df['Last Updated'] = pd.to_datetime(df['Last Updated'])\n",
    "df = df.set_index('Last Updated').sort_index()\n",
    "print(\"After datetime index:\", df.head())"
   ]
  },
  {
   "cell_type": "code",
   "execution_count": null,
   "id": "df721d65-14d7-4f8c-882b-46b3e6238928",
   "metadata": {},
   "outputs": [],
   "source": [
    "# STEP 5: Pivot dataset so pollutants become columns\n",
    "df_pivot = df.pivot_table(\n",
    "    index=df.index,          # use datetime index\n",
    "    columns=\"Pollutant\",     # each pollutant becomes its own column\n",
    "    values=\"Value\",          # pollution values\n",
    "    aggfunc=\"mean\"           # average if duplicates\n",
    ")\n"
   ]
  },
  {
   "cell_type": "code",
   "execution_count": null,
   "id": "4acc1180-060d-42aa-96a2-e8e45791f8de",
   "metadata": {},
   "outputs": [],
   "source": [
    "# Flatten multi-index columns if needed\n",
    "df_pivot.columns = [str(c) for c in df_pivot.columns]\n",
    "\n",
    "print(\"Pivoted dataset (wide format):\")\n",
    "print(df_pivot.head())"
   ]
  },
  {
   "cell_type": "code",
   "execution_count": null,
   "id": "77150578-ddb1-4eda-854a-32e74d44b2f2",
   "metadata": {},
   "outputs": [],
   "source": [
    "# STEP 6: Resample daily averages\n",
    "df_daily = df_pivot.resample('D').mean()"
   ]
  },
  {
   "cell_type": "code",
   "execution_count": null,
   "id": "dbfc35ed-e791-4ed3-adad-74ef5c8513c6",
   "metadata": {},
   "outputs": [],
   "source": [
    "# STEP 7: Handle missing values (fill gaps)\n",
    "df_daily = df_daily.interpolate(limit_direction=\"both\")\n"
   ]
  },
  {
   "cell_type": "code",
   "execution_count": null,
   "id": "675598c6-ac48-40ff-be91-99b1b4fdf87e",
   "metadata": {},
   "outputs": [],
   "source": [
    "# STEP 8: Handle outliers (clip extreme values using IQR)\n",
    "for col in df_daily.columns:\n",
    "    q1 = df_daily[col].quantile(0.25)\n",
    "    q3 = df_daily[col].quantile(0.75)\n",
    "    iqr = q3 - q1\n",
    "    lower = q1 - 1.5 * iqr\n",
    "    upper = q3 + 1.5 * iqr\n",
    "    df_daily[col] = df_daily[col].clip(lower, upper)"
   ]
  },
  {
   "cell_type": "code",
   "execution_count": null,
   "id": "9edea934-c8b7-480b-9d8a-708982f73706",
   "metadata": {},
   "outputs": [],
   "source": [
    "# STEP 9: Add extra features\n",
    "df_daily['dayofweek'] = df_daily.index.dayofweek\n",
    "df_daily['month'] = df_daily.index.month\n",
    "df_daily['year'] = df_daily.index.year"
   ]
  },
  {
   "cell_type": "code",
   "execution_count": null,
   "id": "7644368e-2aba-47e1-9d24-c92115f0cf8b",
   "metadata": {},
   "outputs": [],
   "source": [
    "# STEP 10: Save cleaned dataset\n",
    "df_daily.to_csv(\"../data/processed/air_quality_cleaned.csv\")\n",
    "print(\"✅ Cleaned dataset saved to data/processed/air_quality_cleaned.csv\")\n"
   ]
  },
  {
   "cell_type": "code",
   "execution_count": null,
   "id": "4e0975f4-4af9-486e-a1c9-747afcdb0750",
   "metadata": {},
   "outputs": [],
   "source": [
    "# ===============================================================\n",
    "# EDA (Exploratory Data Analysis)\n",
    "# ===============================================================\n",
    "\n",
    "# 1. Line plots for pollutants\n",
    "plt.figure(figsize=(12,6))\n",
    "for col in df_pivot.columns:\n",
    "    df_daily[col].plot(label=col)\n",
    "plt.title(\"Pollutant Trends Over Time\")\n",
    "plt.legend()\n",
    "plt.show()"
   ]
  },
  {
   "cell_type": "code",
   "execution_count": null,
   "id": "9949efa4-138e-4ec9-ae48-31a445dab18f",
   "metadata": {},
   "outputs": [],
   "source": [
    "# 2. Correlation heatmap\n",
    "plt.figure(figsize=(8,6))\n",
    "sns.heatmap(df_daily.corr(), annot=True, cmap=\"coolwarm\")\n",
    "plt.title(\"Correlation Between Pollutants and Features\")\n",
    "plt.show()\n"
   ]
  },
  {
   "cell_type": "code",
   "execution_count": null,
   "id": "5dc4a634-13c1-499e-86c3-4e95d070d3cc",
   "metadata": {},
   "outputs": [],
   "source": [
    "# 3. Seasonal analysis: Monthly averages (example PM2.5 if exists)\n",
    "if \"PM2.5\" in df_daily.columns:\n",
    "    df_daily.groupby(df_daily.index.month)[\"PM2.5\"].mean().plot(\n",
    "        kind=\"bar\", figsize=(8,4), title=\"Average Monthly PM2.5 Levels\"\n",
    "    )\n",
    "    plt.show()"
   ]
  },
  {
   "cell_type": "code",
   "execution_count": null,
   "id": "0005e4ad-40c0-4e6c-bebf-d73bc66aebd0",
   "metadata": {},
   "outputs": [],
   "source": [
    "# 4. Weekly pattern: Day of week averages (example PM2.5 if exists)\n",
    "if \"PM2.5\" in df_daily.columns:\n",
    "    df_daily.groupby(df_daily.index.dayofweek)[\"PM2.5\"].mean().plot(\n",
    "        kind=\"bar\", figsize=(8,4), title=\"Average PM2.5 by Day of Week (0=Monday)\"\n",
    "    )\n",
    "    plt.show()\n"
   ]
  },
  {
   "cell_type": "code",
   "execution_count": null,
   "id": "d7db05d1-c30c-46d2-9b0f-63b449f60758",
   "metadata": {},
   "outputs": [],
   "source": [
    "# 5. Dataset summary\n",
    "print(\"Final cleaned dataset shape:\", df_daily.shape)\n",
    "print(df_daily.describe())"
   ]
  },
  {
   "cell_type": "code",
   "execution_count": null,
   "id": "9491375c-cb69-4b9f-a1c9-a1c4e77732c2",
   "metadata": {},
   "outputs": [],
   "source": []
  },
  {
   "cell_type": "code",
   "execution_count": null,
   "id": "ad8d0745-04dd-419a-bdb2-978af4bce430",
   "metadata": {},
   "outputs": [],
   "source": []
  },
  {
   "cell_type": "code",
   "execution_count": null,
   "id": "91c53d55-9afe-4574-bd85-5fd6461b6dd9",
   "metadata": {},
   "outputs": [],
   "source": []
  },
  {
   "cell_type": "code",
   "execution_count": null,
   "id": "c353cecd-df9b-47ad-8ddd-2cd1a3bc3b14",
   "metadata": {},
   "outputs": [],
   "source": []
  }
 ],
 "metadata": {
  "kernelspec": {
   "display_name": "Python 3 (ipykernel)",
   "language": "python",
   "name": "python3"
  },
  "language_info": {
   "codemirror_mode": {
    "name": "ipython",
    "version": 3
   },
   "file_extension": ".py",
   "mimetype": "text/x-python",
   "name": "python",
   "nbconvert_exporter": "python",
   "pygments_lexer": "ipython3",
   "version": "3.13.3"
  }
 },
 "nbformat": 4,
 "nbformat_minor": 5
}
