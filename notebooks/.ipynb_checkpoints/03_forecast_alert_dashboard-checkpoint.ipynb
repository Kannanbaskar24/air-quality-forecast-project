{
 "cells": [
  {
   "cell_type": "code",
   "execution_count": 1,
   "id": "053d8889-c7d9-4c62-8584-f895297838a7",
   "metadata": {},
   "outputs": [],
   "source": [
    "!pip install prophet xgboost scikit-learn joblib tensorflow statsmodels --quiet\n",
    "!pip install seaborn matplotlib pandas --quiet\n"
   ]
  },
  {
   "cell_type": "code",
   "execution_count": 2,
   "id": "128e2fcf-2969-4218-a0b1-574355e73de5",
   "metadata": {},
   "outputs": [
    {
     "ename": "ModuleNotFoundError",
     "evalue": "No module named 'src'",
     "output_type": "error",
     "traceback": [
      "\u001b[31m---------------------------------------------------------------------------\u001b[39m",
      "\u001b[31mModuleNotFoundError\u001b[39m                       Traceback (most recent call last)",
      "\u001b[36mCell\u001b[39m\u001b[36m \u001b[39m\u001b[32mIn[2]\u001b[39m\u001b[32m, line 6\u001b[39m\n\u001b[32m      4\u001b[39m \u001b[38;5;28;01mimport\u001b[39;00m\u001b[38;5;250m \u001b[39m\u001b[34;01mmatplotlib\u001b[39;00m\u001b[34;01m.\u001b[39;00m\u001b[34;01mpyplot\u001b[39;00m\u001b[38;5;250m \u001b[39m\u001b[38;5;28;01mas\u001b[39;00m\u001b[38;5;250m \u001b[39m\u001b[34;01mplt\u001b[39;00m\n\u001b[32m      5\u001b[39m \u001b[38;5;28;01mimport\u001b[39;00m\u001b[38;5;250m \u001b[39m\u001b[34;01mseaborn\u001b[39;00m\u001b[38;5;250m \u001b[39m\u001b[38;5;28;01mas\u001b[39;00m\u001b[38;5;250m \u001b[39m\u001b[34;01msns\u001b[39;00m\n\u001b[32m----> \u001b[39m\u001b[32m6\u001b[39m \u001b[38;5;28;01mfrom\u001b[39;00m\u001b[38;5;250m \u001b[39m\u001b[34;01msrc\u001b[39;00m\u001b[34;01m.\u001b[39;00m\u001b[34;01minference\u001b[39;00m\u001b[38;5;250m \u001b[39m\u001b[38;5;28;01mimport\u001b[39;00m forecast_future  \u001b[38;5;66;03m# Module 2 function\u001b[39;00m\n\u001b[32m      8\u001b[39m plt.style.use(\u001b[33m\"\u001b[39m\u001b[33mseaborn-v0_8\u001b[39m\u001b[33m\"\u001b[39m)\n\u001b[32m      9\u001b[39m os.makedirs(\u001b[33m\"\u001b[39m\u001b[33m../plots\u001b[39m\u001b[33m\"\u001b[39m, exist_ok=\u001b[38;5;28;01mTrue\u001b[39;00m)\n",
      "\u001b[31mModuleNotFoundError\u001b[39m: No module named 'src'"
     ]
    }
   ],
   "source": [
    "import os\n",
    "import pandas as pd\n",
    "import numpy as np\n",
    "import matplotlib.pyplot as plt\n",
    "import seaborn as sns\n",
    "from src.inference import forecast_future  # Module 2 function\n",
    "\n",
    "sys.path.append(os.path.abspath(\"..\"))\n",
    "\n",
    "plt.style.use(\"seaborn-v0_8\")\n",
    "os.makedirs(\"../plots\", exist_ok=True)\n",
    "os.makedirs(\"../data/processed\", exist_ok=True)\n"
   ]
  },
  {
   "cell_type": "code",
   "execution_count": 3,
   "id": "70b2db65-8731-4b11-9772-985de5e57084",
   "metadata": {},
   "outputs": [
    {
     "name": "stdout",
     "output_type": "stream",
     "text": [
      "Dataset shape: (3666, 16)\n"
     ]
    },
    {
     "data": {
      "text/html": [
       "<div>\n",
       "<style scoped>\n",
       "    .dataframe tbody tr th:only-of-type {\n",
       "        vertical-align: middle;\n",
       "    }\n",
       "\n",
       "    .dataframe tbody tr th {\n",
       "        vertical-align: top;\n",
       "    }\n",
       "\n",
       "    .dataframe thead th {\n",
       "        text-align: right;\n",
       "    }\n",
       "</style>\n",
       "<table border=\"1\" class=\"dataframe\">\n",
       "  <thead>\n",
       "    <tr style=\"text-align: right;\">\n",
       "      <th></th>\n",
       "      <th>BC</th>\n",
       "      <th>CO</th>\n",
       "      <th>NO</th>\n",
       "      <th>NO2</th>\n",
       "      <th>NOX</th>\n",
       "      <th>O3</th>\n",
       "      <th>PM1</th>\n",
       "      <th>PM10</th>\n",
       "      <th>PM2.5</th>\n",
       "      <th>RELATIVEHUMIDITY</th>\n",
       "      <th>SO2</th>\n",
       "      <th>TEMPERATURE</th>\n",
       "      <th>UM003</th>\n",
       "      <th>dayofweek</th>\n",
       "      <th>month</th>\n",
       "      <th>year</th>\n",
       "    </tr>\n",
       "    <tr>\n",
       "      <th>Last Updated</th>\n",
       "      <th></th>\n",
       "      <th></th>\n",
       "      <th></th>\n",
       "      <th></th>\n",
       "      <th></th>\n",
       "      <th></th>\n",
       "      <th></th>\n",
       "      <th></th>\n",
       "      <th></th>\n",
       "      <th></th>\n",
       "      <th></th>\n",
       "      <th></th>\n",
       "      <th></th>\n",
       "      <th></th>\n",
       "      <th></th>\n",
       "      <th></th>\n",
       "    </tr>\n",
       "  </thead>\n",
       "  <tbody>\n",
       "    <tr>\n",
       "      <th>2014-03-13 00:00:00+05:30</th>\n",
       "      <td>0.43</td>\n",
       "      <td>740.7</td>\n",
       "      <td>0.007021</td>\n",
       "      <td>7.0</td>\n",
       "      <td>0.012899</td>\n",
       "      <td>209.955357</td>\n",
       "      <td>2.3</td>\n",
       "      <td>57.87</td>\n",
       "      <td>5.000000</td>\n",
       "      <td>20.624345</td>\n",
       "      <td>0.1651</td>\n",
       "      <td>17.105903</td>\n",
       "      <td>1670.930059</td>\n",
       "      <td>3</td>\n",
       "      <td>3</td>\n",
       "      <td>2014</td>\n",
       "    </tr>\n",
       "    <tr>\n",
       "      <th>2014-03-14 00:00:00+05:30</th>\n",
       "      <td>0.43</td>\n",
       "      <td>740.7</td>\n",
       "      <td>0.007021</td>\n",
       "      <td>7.0</td>\n",
       "      <td>0.012899</td>\n",
       "      <td>209.955357</td>\n",
       "      <td>2.3</td>\n",
       "      <td>57.87</td>\n",
       "      <td>5.013725</td>\n",
       "      <td>20.624345</td>\n",
       "      <td>0.1651</td>\n",
       "      <td>17.105903</td>\n",
       "      <td>1670.930059</td>\n",
       "      <td>4</td>\n",
       "      <td>3</td>\n",
       "      <td>2014</td>\n",
       "    </tr>\n",
       "    <tr>\n",
       "      <th>2014-03-15 00:00:00+05:30</th>\n",
       "      <td>0.43</td>\n",
       "      <td>740.7</td>\n",
       "      <td>0.007021</td>\n",
       "      <td>7.0</td>\n",
       "      <td>0.012899</td>\n",
       "      <td>209.955357</td>\n",
       "      <td>2.3</td>\n",
       "      <td>57.87</td>\n",
       "      <td>5.027451</td>\n",
       "      <td>20.624345</td>\n",
       "      <td>0.1651</td>\n",
       "      <td>17.105903</td>\n",
       "      <td>1670.930059</td>\n",
       "      <td>5</td>\n",
       "      <td>3</td>\n",
       "      <td>2014</td>\n",
       "    </tr>\n",
       "    <tr>\n",
       "      <th>2014-03-16 00:00:00+05:30</th>\n",
       "      <td>0.43</td>\n",
       "      <td>740.7</td>\n",
       "      <td>0.007021</td>\n",
       "      <td>7.0</td>\n",
       "      <td>0.012899</td>\n",
       "      <td>209.955357</td>\n",
       "      <td>2.3</td>\n",
       "      <td>57.87</td>\n",
       "      <td>5.041176</td>\n",
       "      <td>20.624345</td>\n",
       "      <td>0.1651</td>\n",
       "      <td>17.105903</td>\n",
       "      <td>1670.930059</td>\n",
       "      <td>6</td>\n",
       "      <td>3</td>\n",
       "      <td>2014</td>\n",
       "    </tr>\n",
       "    <tr>\n",
       "      <th>2014-03-17 00:00:00+05:30</th>\n",
       "      <td>0.43</td>\n",
       "      <td>740.7</td>\n",
       "      <td>0.007021</td>\n",
       "      <td>7.0</td>\n",
       "      <td>0.012899</td>\n",
       "      <td>209.955357</td>\n",
       "      <td>2.3</td>\n",
       "      <td>57.87</td>\n",
       "      <td>5.054902</td>\n",
       "      <td>20.624345</td>\n",
       "      <td>0.1651</td>\n",
       "      <td>17.105903</td>\n",
       "      <td>1670.930059</td>\n",
       "      <td>0</td>\n",
       "      <td>3</td>\n",
       "      <td>2014</td>\n",
       "    </tr>\n",
       "  </tbody>\n",
       "</table>\n",
       "</div>"
      ],
      "text/plain": [
       "                             BC     CO        NO  NO2       NOX          O3  \\\n",
       "Last Updated                                                                  \n",
       "2014-03-13 00:00:00+05:30  0.43  740.7  0.007021  7.0  0.012899  209.955357   \n",
       "2014-03-14 00:00:00+05:30  0.43  740.7  0.007021  7.0  0.012899  209.955357   \n",
       "2014-03-15 00:00:00+05:30  0.43  740.7  0.007021  7.0  0.012899  209.955357   \n",
       "2014-03-16 00:00:00+05:30  0.43  740.7  0.007021  7.0  0.012899  209.955357   \n",
       "2014-03-17 00:00:00+05:30  0.43  740.7  0.007021  7.0  0.012899  209.955357   \n",
       "\n",
       "                           PM1   PM10     PM2.5  RELATIVEHUMIDITY     SO2  \\\n",
       "Last Updated                                                                \n",
       "2014-03-13 00:00:00+05:30  2.3  57.87  5.000000         20.624345  0.1651   \n",
       "2014-03-14 00:00:00+05:30  2.3  57.87  5.013725         20.624345  0.1651   \n",
       "2014-03-15 00:00:00+05:30  2.3  57.87  5.027451         20.624345  0.1651   \n",
       "2014-03-16 00:00:00+05:30  2.3  57.87  5.041176         20.624345  0.1651   \n",
       "2014-03-17 00:00:00+05:30  2.3  57.87  5.054902         20.624345  0.1651   \n",
       "\n",
       "                           TEMPERATURE        UM003  dayofweek  month  year  \n",
       "Last Updated                                                                 \n",
       "2014-03-13 00:00:00+05:30    17.105903  1670.930059          3      3  2014  \n",
       "2014-03-14 00:00:00+05:30    17.105903  1670.930059          4      3  2014  \n",
       "2014-03-15 00:00:00+05:30    17.105903  1670.930059          5      3  2014  \n",
       "2014-03-16 00:00:00+05:30    17.105903  1670.930059          6      3  2014  \n",
       "2014-03-17 00:00:00+05:30    17.105903  1670.930059          0      3  2014  "
      ]
     },
     "execution_count": 3,
     "metadata": {},
     "output_type": "execute_result"
    }
   ],
   "source": [
    "df = pd.read_csv(\"../data/processed/air_quality_cleaned.csv\", index_col=0, parse_dates=True)\n",
    "print(\"Dataset shape:\", df.shape)\n",
    "df.head()\n"
   ]
  },
  {
   "cell_type": "code",
   "execution_count": 4,
   "id": "4905d152-7b0b-40a7-8b9f-c5e596923d5f",
   "metadata": {},
   "outputs": [],
   "source": [
    "def categorize_pm25(val):\n",
    "    if val <= 12: return \"Good\"\n",
    "    elif val <= 35.4: return \"Moderate\"\n",
    "    elif val <= 55.4: return \"Unhealthy for Sensitive Groups\"\n",
    "    elif val <= 150.4: return \"Unhealthy\"\n",
    "    elif val <= 250.4: return \"Very Unhealthy\"\n",
    "    else: return \"Hazardous\"\n",
    "\n",
    "def categorize_pm10(val):\n",
    "    if val <= 54: return \"Good\"\n",
    "    elif val <= 154: return \"Moderate\"\n",
    "    elif val <= 254: return \"Unhealthy for Sensitive Groups\"\n",
    "    elif val <= 354: return \"Unhealthy\"\n",
    "    elif val <= 424: return \"Very Unhealthy\"\n",
    "    else: return \"Hazardous\"\n",
    "\n",
    "def categorize_no2(val):\n",
    "    if val <= 53: return \"Good\"\n",
    "    elif val <= 100: return \"Moderate\"\n",
    "    elif val <= 360: return \"Unhealthy for Sensitive Groups\"\n",
    "    elif val <= 649: return \"Unhealthy\"\n",
    "    elif val <= 1249: return \"Very Unhealthy\"\n",
    "    else: return \"Hazardous\"\n",
    "\n",
    "def categorize_o3(val):\n",
    "    if val <= 54: return \"Good\"\n",
    "    elif val <= 70: return \"Moderate\"\n",
    "    elif val <= 85: return \"Unhealthy for Sensitive Groups\"\n",
    "    elif val <= 105: return \"Unhealthy\"\n",
    "    elif val <= 200: return \"Very Unhealthy\"\n",
    "    else: return \"Hazardous\"\n",
    "\n",
    "def categorize_co(val):\n",
    "    if val <= 4.4: return \"Good\"\n",
    "    elif val <= 9.4: return \"Moderate\"\n",
    "    elif val <= 12.4: return \"Unhealthy for Sensitive Groups\"\n",
    "    elif val <= 15.4: return \"Unhealthy\"\n",
    "    elif val <= 30.4: return \"Very Unhealthy\"\n",
    "    else: return \"Hazardous\"\n",
    "\n",
    "def categorize_so2(val):\n",
    "    if val <= 35: return \"Good\"\n",
    "    elif val <= 75: return \"Moderate\"\n",
    "    elif val <= 185: return \"Unhealthy for Sensitive Groups\"\n",
    "    elif val <= 304: return \"Unhealthy\"\n",
    "    elif val <= 604: return \"Very Unhealthy\"\n",
    "    else: return \"Hazardous\"\n"
   ]
  },
  {
   "cell_type": "code",
   "execution_count": 5,
   "id": "16ec2464-12a1-495d-a1ea-6c307dd68e96",
   "metadata": {},
   "outputs": [
    {
     "ename": "NameError",
     "evalue": "name 'forecast_future' is not defined",
     "output_type": "error",
     "traceback": [
      "\u001b[31m---------------------------------------------------------------------------\u001b[39m",
      "\u001b[31mNameError\u001b[39m                                 Traceback (most recent call last)",
      "\u001b[36mCell\u001b[39m\u001b[36m \u001b[39m\u001b[32mIn[5]\u001b[39m\u001b[32m, line 7\u001b[39m\n\u001b[32m      5\u001b[39m \u001b[38;5;28;01mfor\u001b[39;00m pollutant \u001b[38;5;129;01min\u001b[39;00m pollutants:\n\u001b[32m      6\u001b[39m     series = df[pollutant].dropna().asfreq(\u001b[33m\"\u001b[39m\u001b[33mD\u001b[39m\u001b[33m\"\u001b[39m)\n\u001b[32m----> \u001b[39m\u001b[32m7\u001b[39m     forecast_dict[pollutant] = \u001b[43mforecast_future\u001b[49m(pollutant, series, days=forecast_days)\n\u001b[32m      9\u001b[39m forecast_df = pd.DataFrame(forecast_dict)\n\u001b[32m     10\u001b[39m forecast_df.index.name = \u001b[33m\"\u001b[39m\u001b[33mDate\u001b[39m\u001b[33m\"\u001b[39m\n",
      "\u001b[31mNameError\u001b[39m: name 'forecast_future' is not defined"
     ]
    }
   ],
   "source": [
    "forecast_days = 7\n",
    "pollutants = [\"PM2.5\",\"PM10\",\"NO2\",\"O3\",\"CO\",\"SO2\",\"BC\",\"NO\",\"NOX\"]\n",
    "\n",
    "forecast_dict = {}\n",
    "for pollutant in pollutants:\n",
    "    series = df[pollutant].dropna().asfreq(\"D\")\n",
    "    forecast_dict[pollutant] = forecast_future(pollutant, series, days=forecast_days)\n",
    "\n",
    "forecast_df = pd.DataFrame(forecast_dict)\n",
    "forecast_df.index.name = \"Date\"\n",
    "forecast_df\n"
   ]
  },
  {
   "cell_type": "code",
   "execution_count": 6,
   "id": "da95c5ef-9ff0-4ee3-b632-9b44b6e643c4",
   "metadata": {},
   "outputs": [
    {
     "ename": "NameError",
     "evalue": "name 'forecast_df' is not defined",
     "output_type": "error",
     "traceback": [
      "\u001b[31m---------------------------------------------------------------------------\u001b[39m",
      "\u001b[31mNameError\u001b[39m                                 Traceback (most recent call last)",
      "\u001b[36mCell\u001b[39m\u001b[36m \u001b[39m\u001b[32mIn[6]\u001b[39m\u001b[32m, line 2\u001b[39m\n\u001b[32m      1\u001b[39m aqi_categories = {}\n\u001b[32m----> \u001b[39m\u001b[32m2\u001b[39m \u001b[38;5;28;01mfor\u001b[39;00m pollutant \u001b[38;5;129;01min\u001b[39;00m \u001b[43mforecast_df\u001b[49m.columns:\n\u001b[32m      3\u001b[39m     \u001b[38;5;28;01mif\u001b[39;00m pollutant == \u001b[33m\"\u001b[39m\u001b[33mPM2.5\u001b[39m\u001b[33m\"\u001b[39m:\n\u001b[32m      4\u001b[39m         aqi_categories[pollutant] = forecast_df[pollutant].apply(categorize_pm25)\n",
      "\u001b[31mNameError\u001b[39m: name 'forecast_df' is not defined"
     ]
    }
   ],
   "source": [
    "aqi_categories = {}\n",
    "for pollutant in forecast_df.columns:\n",
    "    if pollutant == \"PM2.5\":\n",
    "        aqi_categories[pollutant] = forecast_df[pollutant].apply(categorize_pm25)\n",
    "    elif pollutant == \"PM10\":\n",
    "        aqi_categories[pollutant] = forecast_df[pollutant].apply(categorize_pm10)\n",
    "    elif pollutant == \"NO2\":\n",
    "        aqi_categories[pollutant] = forecast_df[pollutant].apply(categorize_no2)\n",
    "    elif pollutant == \"O3\":\n",
    "        aqi_categories[pollutant] = forecast_df[pollutant].apply(categorize_o3)\n",
    "    elif pollutant == \"CO\":\n",
    "        aqi_categories[pollutant] = forecast_df[pollutant].apply(categorize_co)\n",
    "    elif pollutant == \"SO2\":\n",
    "        aqi_categories[pollutant] = forecast_df[pollutant].apply(categorize_so2)\n",
    "    else:\n",
    "        aqi_categories[pollutant] = \"Unknown\"\n"
   ]
  },
  {
   "cell_type": "code",
   "execution_count": 7,
   "id": "beaea2b8-9b90-4a6a-8387-d83d6e67f235",
   "metadata": {},
   "outputs": [
    {
     "ename": "NameError",
     "evalue": "name 'forecast_df' is not defined",
     "output_type": "error",
     "traceback": [
      "\u001b[31m---------------------------------------------------------------------------\u001b[39m",
      "\u001b[31mNameError\u001b[39m                                 Traceback (most recent call last)",
      "\u001b[36mCell\u001b[39m\u001b[36m \u001b[39m\u001b[32mIn[7]\u001b[39m\u001b[32m, line 8\u001b[39m\n\u001b[32m      5\u001b[39m reverse_mapping = {v:k \u001b[38;5;28;01mfor\u001b[39;00m k,v \u001b[38;5;129;01min\u001b[39;00m category_mapping.items()}\n\u001b[32m      7\u001b[39m aqi_numeric = pd.DataFrame({p: aqi_categories[p].map(category_mapping) \u001b[38;5;28;01mfor\u001b[39;00m p \u001b[38;5;129;01min\u001b[39;00m aqi_categories})\n\u001b[32m----> \u001b[39m\u001b[32m8\u001b[39m \u001b[43mforecast_df\u001b[49m[\u001b[33m\"\u001b[39m\u001b[33mOverall_AQI_Level\u001b[39m\u001b[33m\"\u001b[39m] = aqi_numeric.max(axis=\u001b[32m1\u001b[39m)\n\u001b[32m      9\u001b[39m forecast_df[\u001b[33m\"\u001b[39m\u001b[33mOverall_AQI_Category\u001b[39m\u001b[33m\"\u001b[39m] = forecast_df[\u001b[33m\"\u001b[39m\u001b[33mOverall_AQI_Level\u001b[39m\u001b[33m\"\u001b[39m].map(reverse_mapping)\n\u001b[32m     10\u001b[39m forecast_df\n",
      "\u001b[31mNameError\u001b[39m: name 'forecast_df' is not defined"
     ]
    }
   ],
   "source": [
    "category_mapping = {\n",
    "    \"Good\": 1, \"Moderate\": 2, \"Unhealthy for Sensitive Groups\": 3,\n",
    "    \"Unhealthy\": 4, \"Very Unhealthy\": 5, \"Hazardous\": 6\n",
    "}\n",
    "reverse_mapping = {v:k for k,v in category_mapping.items()}\n",
    "\n",
    "aqi_numeric = pd.DataFrame({p: aqi_categories[p].map(category_mapping) for p in aqi_categories})\n",
    "forecast_df[\"Overall_AQI_Level\"] = aqi_numeric.max(axis=1)\n",
    "forecast_df[\"Overall_AQI_Category\"] = forecast_df[\"Overall_AQI_Level\"].map(reverse_mapping)\n",
    "forecast_df\n"
   ]
  },
  {
   "cell_type": "code",
   "execution_count": 8,
   "id": "7b0842f9-3dab-4cc1-bb86-45354e8e2602",
   "metadata": {},
   "outputs": [
    {
     "ename": "NameError",
     "evalue": "name 'forecast_df' is not defined",
     "output_type": "error",
     "traceback": [
      "\u001b[31m---------------------------------------------------------------------------\u001b[39m",
      "\u001b[31mNameError\u001b[39m                                 Traceback (most recent call last)",
      "\u001b[36mCell\u001b[39m\u001b[36m \u001b[39m\u001b[32mIn[8]\u001b[39m\u001b[32m, line 1\u001b[39m\n\u001b[32m----> \u001b[39m\u001b[32m1\u001b[39m high_risk_days = \u001b[43mforecast_df\u001b[49m[forecast_df[\u001b[33m\"\u001b[39m\u001b[33mOverall_AQI_Level\u001b[39m\u001b[33m\"\u001b[39m] >= \u001b[32m4\u001b[39m]  \u001b[38;5;66;03m# Unhealthy or worse\u001b[39;00m\n\u001b[32m      2\u001b[39m \u001b[38;5;28mprint\u001b[39m(\u001b[33m\"\u001b[39m\u001b[33mHigh-risk forecast days:\u001b[39m\u001b[33m\"\u001b[39m)\n\u001b[32m      3\u001b[39m high_risk_days[[\u001b[33m\"\u001b[39m\u001b[33mOverall_AQI_Category\u001b[39m\u001b[33m\"\u001b[39m]]\n",
      "\u001b[31mNameError\u001b[39m: name 'forecast_df' is not defined"
     ]
    }
   ],
   "source": [
    "high_risk_days = forecast_df[forecast_df[\"Overall_AQI_Level\"] >= 4]  # Unhealthy or worse\n",
    "print(\"High-risk forecast days:\")\n",
    "high_risk_days[[\"Overall_AQI_Category\"]]\n"
   ]
  },
  {
   "cell_type": "code",
   "execution_count": 9,
   "id": "520d0db7-3da9-4c8b-b9e7-21673a562af2",
   "metadata": {},
   "outputs": [
    {
     "ename": "NameError",
     "evalue": "name 'forecast_df' is not defined",
     "output_type": "error",
     "traceback": [
      "\u001b[31m---------------------------------------------------------------------------\u001b[39m",
      "\u001b[31mNameError\u001b[39m                                 Traceback (most recent call last)",
      "\u001b[36mCell\u001b[39m\u001b[36m \u001b[39m\u001b[32mIn[9]\u001b[39m\u001b[32m, line 4\u001b[39m\n\u001b[32m      2\u001b[39m plt.figure(figsize=(\u001b[32m12\u001b[39m,\u001b[32m5\u001b[39m))\n\u001b[32m      3\u001b[39m \u001b[38;5;28;01mfor\u001b[39;00m pollutant \u001b[38;5;129;01min\u001b[39;00m pollutants:\n\u001b[32m----> \u001b[39m\u001b[32m4\u001b[39m     \u001b[43mforecast_df\u001b[49m[pollutant].plot(label=pollutant)\n\u001b[32m      5\u001b[39m plt.title(\u001b[33m\"\u001b[39m\u001b[33m7-Day Pollutant Forecast\u001b[39m\u001b[33m\"\u001b[39m)\n\u001b[32m      6\u001b[39m plt.xlabel(\u001b[33m\"\u001b[39m\u001b[33mDate\u001b[39m\u001b[33m\"\u001b[39m)\n",
      "\u001b[31mNameError\u001b[39m: name 'forecast_df' is not defined"
     ]
    },
    {
     "data": {
      "text/plain": [
       "<Figure size 1200x500 with 0 Axes>"
      ]
     },
     "metadata": {},
     "output_type": "display_data"
    }
   ],
   "source": [
    "# 1. Line plot of pollutants\n",
    "plt.figure(figsize=(12,5))\n",
    "for pollutant in pollutants:\n",
    "    forecast_df[pollutant].plot(label=pollutant)\n",
    "plt.title(\"7-Day Pollutant Forecast\")\n",
    "plt.xlabel(\"Date\")\n",
    "plt.ylabel(\"Concentration\")\n",
    "plt.legend()\n",
    "plt.savefig(\"../plots/forecast_lineplot.png\")\n",
    "plt.show()\n",
    "\n",
    "# 2. AQI Heatmap\n",
    "sns.heatmap(aqi_numeric.T, annot=True, cmap=\"Reds\", cbar_kws={'label':'AQI Level'})\n",
    "plt.title(\"Forecasted AQI Levels per Pollutant\")\n",
    "plt.xlabel(\"Date\")\n",
    "plt.ylabel(\"Pollutant\")\n",
    "plt.savefig(\"../plots/forecast_aqi_heatmap.png\")\n",
    "plt.show()\n",
    "\n",
    "# 3. Overall AQI trend\n",
    "forecast_df[\"Overall_AQI_Level\"].plot(kind='line', marker='o', figsize=(10,4), title=\"Overall AQI Trend\")\n",
    "plt.ylabel(\"AQI Level\")\n",
    "plt.savefig(\"../plots/overall_aqi_trend.png\")\n",
    "plt.show()\n"
   ]
  },
  {
   "cell_type": "code",
   "execution_count": 10,
   "id": "971c3a5c-9bb5-4e56-bf7e-13e22953cd0d",
   "metadata": {},
   "outputs": [
    {
     "ename": "NameError",
     "evalue": "name 'forecast_df' is not defined",
     "output_type": "error",
     "traceback": [
      "\u001b[31m---------------------------------------------------------------------------\u001b[39m",
      "\u001b[31mNameError\u001b[39m                                 Traceback (most recent call last)",
      "\u001b[36mCell\u001b[39m\u001b[36m \u001b[39m\u001b[32mIn[10]\u001b[39m\u001b[32m, line 1\u001b[39m\n\u001b[32m----> \u001b[39m\u001b[32m1\u001b[39m \u001b[43mforecast_df\u001b[49m.to_csv(\u001b[33m\"\u001b[39m\u001b[33m../data/processed/forecast_7days_full.csv\u001b[39m\u001b[33m\"\u001b[39m)\n\u001b[32m      2\u001b[39m high_risk_days.to_csv(\u001b[33m\"\u001b[39m\u001b[33m../data/processed/high_risk_alerts.csv\u001b[39m\u001b[33m\"\u001b[39m)\n\u001b[32m      3\u001b[39m \u001b[38;5;28mprint\u001b[39m(\u001b[33m\"\u001b[39m\u001b[33m✅ Forecasts and high-risk alerts saved for dashboard use.\u001b[39m\u001b[33m\"\u001b[39m)\n",
      "\u001b[31mNameError\u001b[39m: name 'forecast_df' is not defined"
     ]
    }
   ],
   "source": [
    "forecast_df.to_csv(\"../data/processed/forecast_7days_full.csv\")\n",
    "high_risk_days.to_csv(\"../data/processed/high_risk_alerts.csv\")\n",
    "print(\"✅ Forecasts and high-risk alerts saved for dashboard use.\")\n"
   ]
  },
  {
   "cell_type": "code",
   "execution_count": null,
   "id": "daa849e9-c75e-41bd-a925-f69ef687a0ba",
   "metadata": {},
   "outputs": [],
   "source": []
  }
 ],
 "metadata": {
  "kernelspec": {
   "display_name": "Python 3 (ipykernel)",
   "language": "python",
   "name": "python3"
  },
  "language_info": {
   "codemirror_mode": {
    "name": "ipython",
    "version": 3
   },
   "file_extension": ".py",
   "mimetype": "text/x-python",
   "name": "python",
   "nbconvert_exporter": "python",
   "pygments_lexer": "ipython3",
   "version": "3.13.3"
  }
 },
 "nbformat": 4,
 "nbformat_minor": 5
}
